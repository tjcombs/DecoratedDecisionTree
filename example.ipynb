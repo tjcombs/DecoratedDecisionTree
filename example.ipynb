{
 "cells": [
  {
   "cell_type": "markdown",
   "metadata": {},
   "source": [
    "# Decorated Decision Tree Regressor\n",
    "\n",
    "This notebook contains an example of how to use the decorated decision tree regressor.\n",
    "\n",
    "The `DecoratedDecisionTreeRegressor` is a custom machine learning algorithm which extends sklearn's `DecisionTreeRegressor` by allowing any regression model to be fit on the leaves of a decision tree.\n",
    "\n",
    "First, we import the necessary packages needed for this example."
   ]
  },
  {
   "cell_type": "code",
   "execution_count": 1,
   "metadata": {},
   "outputs": [],
   "source": [
    "from DecoratedDecisionTree import DecoratedDecisionTreeRegressor\n",
    "from sklearn.tree import DecisionTreeRegressor\n",
    "from sklearn.linear_model import LinearRegression\n",
    "from sklearn.metrics import mean_squared_error\n",
    "import numpy as np\n",
    "import pandas as pd\n",
    "import matplotlib.pyplot as plt"
   ]
  },
  {
   "cell_type": "markdown",
   "metadata": {},
   "source": [
    "In this example, we will try to make the decorated tree fit $y = X^2 + \\epsilon$ where $\\epsilon \\sim \\text{N}(0, \\sigma).$  We construct some artificial data:"
   ]
  },
  {
   "cell_type": "code",
   "execution_count": 2,
   "metadata": {},
   "outputs": [
    {
     "data": {
      "text/html": [
       "<div>\n",
       "<style scoped>\n",
       "    .dataframe tbody tr th:only-of-type {\n",
       "        vertical-align: middle;\n",
       "    }\n",
       "\n",
       "    .dataframe tbody tr th {\n",
       "        vertical-align: top;\n",
       "    }\n",
       "\n",
       "    .dataframe thead th {\n",
       "        text-align: right;\n",
       "    }\n",
       "</style>\n",
       "<table border=\"1\" class=\"dataframe\">\n",
       "  <thead>\n",
       "    <tr style=\"text-align: right;\">\n",
       "      <th></th>\n",
       "      <th>X</th>\n",
       "      <th>y</th>\n",
       "      <th>y_jitter</th>\n",
       "    </tr>\n",
       "  </thead>\n",
       "  <tbody>\n",
       "    <tr>\n",
       "      <th>0</th>\n",
       "      <td>-500</td>\n",
       "      <td>250000</td>\n",
       "      <td>237831.402060</td>\n",
       "    </tr>\n",
       "    <tr>\n",
       "      <th>1</th>\n",
       "      <td>-499</td>\n",
       "      <td>249001</td>\n",
       "      <td>265119.904825</td>\n",
       "    </tr>\n",
       "    <tr>\n",
       "      <th>2</th>\n",
       "      <td>-498</td>\n",
       "      <td>248004</td>\n",
       "      <td>235035.901439</td>\n",
       "    </tr>\n",
       "    <tr>\n",
       "      <th>3</th>\n",
       "      <td>-497</td>\n",
       "      <td>247009</td>\n",
       "      <td>258141.820300</td>\n",
       "    </tr>\n",
       "    <tr>\n",
       "      <th>4</th>\n",
       "      <td>-496</td>\n",
       "      <td>246016</td>\n",
       "      <td>247215.665804</td>\n",
       "    </tr>\n",
       "  </tbody>\n",
       "</table>\n",
       "</div>"
      ],
      "text/plain": [
       "     X       y       y_jitter\n",
       "0 -500  250000  237831.402060\n",
       "1 -499  249001  265119.904825\n",
       "2 -498  248004  235035.901439\n",
       "3 -497  247009  258141.820300\n",
       "4 -496  246016  247215.665804"
      ]
     },
     "execution_count": 2,
     "metadata": {},
     "output_type": "execute_result"
    }
   ],
   "source": [
    "sigma = 20000\n",
    "data = pd.DataFrame({'X': np.arange(-500, 500)})\n",
    "noise = np.random.normal(0, sigma, len(data))\n",
    "data['y'] = data['X']**2\n",
    "data['y_jitter'] = data['y'] + noise\n",
    "\n",
    "data.head()"
   ]
  },
  {
   "cell_type": "markdown",
   "metadata": {},
   "source": [
    "We now contruct a `DecoratedDecisionTreeRegressor` object."
   ]
  },
  {
   "cell_type": "code",
   "execution_count": 3,
   "metadata": {},
   "outputs": [
    {
     "data": {
      "text/plain": [
       "\u001b[1;31mInit signature:\u001b[0m \u001b[0mDecoratedDecisionTreeRegressor\u001b[0m\u001b[1;33m(\u001b[0m\u001b[0mdtr\u001b[0m\u001b[1;33m,\u001b[0m \u001b[0mdecorator\u001b[0m\u001b[1;33m)\u001b[0m\u001b[1;33m\u001b[0m\u001b[1;33m\u001b[0m\u001b[0m\n",
       "\u001b[1;31mDocstring:\u001b[0m      <no docstring>\n",
       "\u001b[1;31mInit docstring:\u001b[0m\n",
       "Creates a decorated decision tree regressor.  A decision tree is fit \n",
       "according to the supplied DecisionTreeRegressor.  The data on the\n",
       "leaves of the tree are fit according to a supplied decorator\n",
       "which is a regression algorithm.\n",
       "\n",
       "Parameters\n",
       "----------\n",
       "dtr : sklearn.tree.DecisionTreeRegressor\n",
       "    Decision tree regressor\n",
       "decorator : Regressor\n",
       "    Regression algorithm used to fit the data at the leaves of the tree.\n",
       "\u001b[1;31mFile:\u001b[0m           c:\\users\\tj\\documents\\code\\decorateddecisiontree\\decorateddecisiontree.py\n",
       "\u001b[1;31mType:\u001b[0m           type\n",
       "\u001b[1;31mSubclasses:\u001b[0m     \n"
      ]
     },
     "metadata": {},
     "output_type": "display_data"
    }
   ],
   "source": [
    "DecoratedDecisionTreeRegressor?"
   ]
  },
  {
   "cell_type": "markdown",
   "metadata": {},
   "source": [
    "Notice the `DecoratedDecisionTreeRegressor` requires two parameters: a decision tree regressor and a regressor used to fit the leaves of the tree.\n",
    "\n",
    "For our base tree, we require each of our leaves to have at least 120 data points.  Once the decision tree is built, we improve the predictions by fitting the data in the leaves using linear regression."
   ]
  },
  {
   "cell_type": "code",
   "execution_count": 4,
   "metadata": {},
   "outputs": [],
   "source": [
    "ddtr = DecoratedDecisionTreeRegressor(dtr = DecisionTreeRegressor(min_samples_leaf=120), \n",
    "                                      decorator = LinearRegression())"
   ]
  },
  {
   "cell_type": "markdown",
   "metadata": {},
   "source": [
    "Now, use the regressor to fit the decorated decision tree model and make a prediction."
   ]
  },
  {
   "cell_type": "code",
   "execution_count": 5,
   "metadata": {},
   "outputs": [
    {
     "data": {
      "text/html": [
       "<div>\n",
       "<style scoped>\n",
       "    .dataframe tbody tr th:only-of-type {\n",
       "        vertical-align: middle;\n",
       "    }\n",
       "\n",
       "    .dataframe tbody tr th {\n",
       "        vertical-align: top;\n",
       "    }\n",
       "\n",
       "    .dataframe thead th {\n",
       "        text-align: right;\n",
       "    }\n",
       "</style>\n",
       "<table border=\"1\" class=\"dataframe\">\n",
       "  <thead>\n",
       "    <tr style=\"text-align: right;\">\n",
       "      <th></th>\n",
       "      <th>X</th>\n",
       "      <th>y</th>\n",
       "      <th>y_jitter</th>\n",
       "      <th>y_decorated_tree</th>\n",
       "    </tr>\n",
       "  </thead>\n",
       "  <tbody>\n",
       "    <tr>\n",
       "      <th>0</th>\n",
       "      <td>-500</td>\n",
       "      <td>250000</td>\n",
       "      <td>237831.402060</td>\n",
       "      <td>246225.121069</td>\n",
       "    </tr>\n",
       "    <tr>\n",
       "      <th>1</th>\n",
       "      <td>-499</td>\n",
       "      <td>249001</td>\n",
       "      <td>265119.904825</td>\n",
       "      <td>245397.813276</td>\n",
       "    </tr>\n",
       "    <tr>\n",
       "      <th>2</th>\n",
       "      <td>-498</td>\n",
       "      <td>248004</td>\n",
       "      <td>235035.901439</td>\n",
       "      <td>244570.505484</td>\n",
       "    </tr>\n",
       "    <tr>\n",
       "      <th>3</th>\n",
       "      <td>-497</td>\n",
       "      <td>247009</td>\n",
       "      <td>258141.820300</td>\n",
       "      <td>243743.197691</td>\n",
       "    </tr>\n",
       "    <tr>\n",
       "      <th>4</th>\n",
       "      <td>-496</td>\n",
       "      <td>246016</td>\n",
       "      <td>247215.665804</td>\n",
       "      <td>242915.889899</td>\n",
       "    </tr>\n",
       "  </tbody>\n",
       "</table>\n",
       "</div>"
      ],
      "text/plain": [
       "     X       y       y_jitter  y_decorated_tree\n",
       "0 -500  250000  237831.402060     246225.121069\n",
       "1 -499  249001  265119.904825     245397.813276\n",
       "2 -498  248004  235035.901439     244570.505484\n",
       "3 -497  247009  258141.820300     243743.197691\n",
       "4 -496  246016  247215.665804     242915.889899"
      ]
     },
     "execution_count": 5,
     "metadata": {},
     "output_type": "execute_result"
    }
   ],
   "source": [
    "ddtr.fit(data[['X']], data['y_jitter'])\n",
    "data['y_decorated_tree'] = ddtr.predict(data[['X']])\n",
    "\n",
    "data.head()"
   ]
  },
  {
   "cell_type": "markdown",
   "metadata": {},
   "source": [
    "Once the decorated decision tree is fit, you are able to access the base decision tree as follows"
   ]
  },
  {
   "cell_type": "code",
   "execution_count": 6,
   "metadata": {},
   "outputs": [
    {
     "data": {
      "text/plain": [
       "DecisionTreeRegressor(ccp_alpha=0.0, criterion='mse', max_depth=None,\n",
       "                      max_features=None, max_leaf_nodes=None,\n",
       "                      min_impurity_decrease=0.0, min_impurity_split=None,\n",
       "                      min_samples_leaf=120, min_samples_split=2,\n",
       "                      min_weight_fraction_leaf=0.0, presort='deprecated',\n",
       "                      random_state=None, splitter='best')"
      ]
     },
     "execution_count": 6,
     "metadata": {},
     "output_type": "execute_result"
    }
   ],
   "source": [
    "# The base decision tree regressor\n",
    "ddtr.dtr"
   ]
  },
  {
   "cell_type": "markdown",
   "metadata": {},
   "source": [
    "Let's take a look what what the base tree predicts `y` should be."
   ]
  },
  {
   "cell_type": "code",
   "execution_count": 7,
   "metadata": {},
   "outputs": [
    {
     "data": {
      "text/html": [
       "<div>\n",
       "<style scoped>\n",
       "    .dataframe tbody tr th:only-of-type {\n",
       "        vertical-align: middle;\n",
       "    }\n",
       "\n",
       "    .dataframe tbody tr th {\n",
       "        vertical-align: top;\n",
       "    }\n",
       "\n",
       "    .dataframe thead th {\n",
       "        text-align: right;\n",
       "    }\n",
       "</style>\n",
       "<table border=\"1\" class=\"dataframe\">\n",
       "  <thead>\n",
       "    <tr style=\"text-align: right;\">\n",
       "      <th></th>\n",
       "      <th>X</th>\n",
       "      <th>y</th>\n",
       "      <th>y_jitter</th>\n",
       "      <th>y_decorated_tree</th>\n",
       "      <th>y_base_tree</th>\n",
       "    </tr>\n",
       "  </thead>\n",
       "  <tbody>\n",
       "    <tr>\n",
       "      <th>0</th>\n",
       "      <td>-500</td>\n",
       "      <td>250000</td>\n",
       "      <td>237831.402060</td>\n",
       "      <td>246225.121069</td>\n",
       "      <td>187486.267792</td>\n",
       "    </tr>\n",
       "    <tr>\n",
       "      <th>1</th>\n",
       "      <td>-499</td>\n",
       "      <td>249001</td>\n",
       "      <td>265119.904825</td>\n",
       "      <td>245397.813276</td>\n",
       "      <td>187486.267792</td>\n",
       "    </tr>\n",
       "    <tr>\n",
       "      <th>2</th>\n",
       "      <td>-498</td>\n",
       "      <td>248004</td>\n",
       "      <td>235035.901439</td>\n",
       "      <td>244570.505484</td>\n",
       "      <td>187486.267792</td>\n",
       "    </tr>\n",
       "    <tr>\n",
       "      <th>3</th>\n",
       "      <td>-497</td>\n",
       "      <td>247009</td>\n",
       "      <td>258141.820300</td>\n",
       "      <td>243743.197691</td>\n",
       "      <td>187486.267792</td>\n",
       "    </tr>\n",
       "    <tr>\n",
       "      <th>4</th>\n",
       "      <td>-496</td>\n",
       "      <td>246016</td>\n",
       "      <td>247215.665804</td>\n",
       "      <td>242915.889899</td>\n",
       "      <td>187486.267792</td>\n",
       "    </tr>\n",
       "  </tbody>\n",
       "</table>\n",
       "</div>"
      ],
      "text/plain": [
       "     X       y       y_jitter  y_decorated_tree    y_base_tree\n",
       "0 -500  250000  237831.402060     246225.121069  187486.267792\n",
       "1 -499  249001  265119.904825     245397.813276  187486.267792\n",
       "2 -498  248004  235035.901439     244570.505484  187486.267792\n",
       "3 -497  247009  258141.820300     243743.197691  187486.267792\n",
       "4 -496  246016  247215.665804     242915.889899  187486.267792"
      ]
     },
     "execution_count": 7,
     "metadata": {},
     "output_type": "execute_result"
    }
   ],
   "source": [
    "# Predict using the base tree\n",
    "data['y_base_tree'] = ddtr.dtr.predict(data[['X']])\n",
    "data.head()"
   ]
  },
  {
   "cell_type": "markdown",
   "metadata": {},
   "source": [
    "Let's plot the predictions of the decorated tree compared to the base tree to see how well they did."
   ]
  },
  {
   "cell_type": "code",
   "execution_count": 8,
   "metadata": {},
   "outputs": [
    {
     "data": {
      "image/png": "[encoded data removed]",
      "text/plain": [
       "<Figure size 864x648 with 1 Axes>"
      ]
     },
     "metadata": {
      "needs_background": "light"
     },
     "output_type": "display_data"
    }
   ],
   "source": [
    "fig = plt.figure(figsize = (1.5*8, 1.5*6))\n",
    "ax = plt.axes()\n",
    "ax.set_title('Decorated Tree vs Base Tree Predictions')\n",
    "ax.scatter(data['X'], data['y_jitter'], color='green', label='y_jitter', s=2)\n",
    "ax.plot(data['X'], data['y_decorated_tree'], color='blue', label = 'y_decorated_tree')\n",
    "ax.plot(data['X'], data['y_base_tree'], color='cyan', label = 'y_base_tree')\n",
    "ax.plot(data['X'], data['y'], color='red', label='y')\n",
    "ax.legend()\n",
    "ax.grid()"
   ]
  },
  {
   "cell_type": "markdown",
   "metadata": {},
   "source": [
    "Notice that a decorated tree does a better job at predicting `y` than the base tree."
   ]
  },
  {
   "cell_type": "code",
   "execution_count": 9,
   "metadata": {},
   "outputs": [
    {
     "name": "stdout",
     "output_type": "stream",
     "text": [
      "RMSD Decorated Tree: 3553\n",
      "RMSD Base Tree     : 25279\n"
     ]
    }
   ],
   "source": [
    "print('RMSD Decorated Tree:', int(mean_squared_error(data['y_decorated_tree'], data['y'])**0.5))\n",
    "print('RMSD Base Tree     :', int(mean_squared_error(data['y_base_tree'], data['y'])**0.5))"
   ]
  }
 ],
 "metadata": {
  "kernelspec": {
   "display_name": "Python 3",
   "language": "python",
   "name": "python3"
  },
  "language_info": {
   "codemirror_mode": {
    "name": "ipython",
    "version": 3
   },
   "file_extension": ".py",
   "mimetype": "text/x-python",
   "name": "python",
   "nbconvert_exporter": "python",
   "pygments_lexer": "ipython3",
   "version": "3.7.6"
  }
 },
 "nbformat": 4,
 "nbformat_minor": 4
}
